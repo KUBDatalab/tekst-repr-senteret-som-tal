{
 "cells": [
  {
   "cell_type": "markdown",
   "metadata": {},
   "source": [
    "# Word Embedding"
   ]
  },
  {
   "cell_type": "markdown",
   "metadata": {},
   "source": [
    "Når vi taler om digital humaniora inden for litteratur, så handler det ofte om at måle koncentrationen af et eller flere ord eller begreber i en eller flere tekster. For at kunne foretage målinger og beregniner, har man behov for anvende tal i stedet for ord. \n",
    "\n",
    "Word embeddings er et begreb, der knytter sig til dette på den måde, at word embeddings er et parapylbegreb, der knytter sig til forskellige andre begreber og algoritmer, der har det tilfælles, at de inddrages i digital tekstanalyse, og at de forudsætter at have ord og tekst repræsenteret som tal.\n",
    "\n",
    "Denne notebook handler om at få en forståelse for, hvordan og hvorfor man inden for digital tekstanalyse repræsenterer ord med tal for at kunne foretage målinger på teksterne."
   ]
  },
  {
   "cell_type": "markdown",
   "metadata": {},
   "source": [
    "## Indlæs data"
   ]
  },
  {
   "cell_type": "markdown",
   "metadata": {},
   "source": [
    "Lad os forestille os, at vi har fem tekster. Det kunne være fem meget lange tekster, men i denne sammenhæng benytter vi fem korte tekster, hvor nogle af de samme ord optræder flere gange. Teksten stammer fra sangen Tears of a Clown, der er skrevet at bandet The Casket Girls, men dette er egentlig fuldstændigt lige meget i denne sammenhæng.  "
   ]
  },
  {
   "cell_type": "code",
   "execution_count": 1,
   "metadata": {},
   "outputs": [],
   "source": [
    "text1 = \"Making money, making money\"\n",
    "text2 = \"Making money, making money is for the birds\"\n",
    "text3 = \"If it was not for making money\"\n",
    "text4 = \"We would be making love not war\"\n",
    "text5 = \"Honey, fuck what you heard\""
   ]
  },
  {
   "cell_type": "markdown",
   "metadata": {},
   "source": [
    "Teksterne vil vi gerne fortage forskellige beregninger på. Beregninger kunne f.eks. handle om, at vi ville undersøge, hvor mange gange en tekst nævner et bestemt ord, men det kunner også være at vi ville undersøge, hvor forskellige teksterne var fra hinanden."
   ]
  },
  {
   "cell_type": "markdown",
   "metadata": {},
   "source": [
    "For at kunne foretage, der slags beregninger er vi nødt til at omdanne teksterne til tal, og før end vi kan gøre dette skal teksterne klargøres.     "
   ]
  },
  {
   "cell_type": "markdown",
   "metadata": {},
   "source": [
    "## Klargør tekstdata"
   ]
  },
  {
   "cell_type": "markdown",
   "metadata": {},
   "source": [
    "Klargøringen begynder med at vi samler vores korpus i en liste."
   ]
  },
  {
   "cell_type": "code",
   "execution_count": 2,
   "metadata": {},
   "outputs": [],
   "source": [
    "text_list = [text1, text2, text3, text4, text5]"
   ]
  },
  {
   "cell_type": "code",
   "execution_count": 3,
   "metadata": {},
   "outputs": [
    {
     "data": {
      "text/plain": [
       "['Making money, making money',\n",
       " 'Making money, making money is for the birds',\n",
       " 'If it was not for making money',\n",
       " 'We would be making love not war',\n",
       " 'Honey, fuck what you heard']"
      ]
     },
     "execution_count": 3,
     "metadata": {},
     "output_type": "execute_result"
    }
   ],
   "source": [
    "text_list "
   ]
  },
  {
   "cell_type": "markdown",
   "metadata": {},
   "source": [
    "Klargøringen forsætter ved at vi sikre at alle ord er skrevet med små bogstaver."
   ]
  },
  {
   "cell_type": "code",
   "execution_count": 4,
   "metadata": {},
   "outputs": [],
   "source": [
    "lower_text_list = [i.lower() for i in text_list]"
   ]
  },
  {
   "cell_type": "code",
   "execution_count": 5,
   "metadata": {},
   "outputs": [
    {
     "data": {
      "text/plain": [
       "['making money, making money',\n",
       " 'making money, making money is for the birds',\n",
       " 'if it was not for making money',\n",
       " 'we would be making love not war',\n",
       " 'honey, fuck what you heard']"
      ]
     },
     "execution_count": 5,
     "metadata": {},
     "output_type": "execute_result"
    }
   ],
   "source": [
    "lower_text_list"
   ]
  },
  {
   "cell_type": "markdown",
   "metadata": {},
   "source": [
    "Vi vil også gerne fjerne alle andre tegn end bogstaver, og de rensede tekster vil jeg også have splittet op i ordlister. Til dette benytter jeg regex biblioteks funktion, der hedder findall og et regulært udtryk, der matcher alt andet mellem begyndelsen og slutningen på et ord end mellemrum, tabulator eller linjeskift."
   ]
  },
  {
   "cell_type": "code",
   "execution_count": 6,
   "metadata": {},
   "outputs": [],
   "source": [
    "import re\n",
    "clean_text_list = [re.findall(r'\\b(\\S+)\\b', i) for i in lower_text_list]"
   ]
  },
  {
   "cell_type": "code",
   "execution_count": 7,
   "metadata": {},
   "outputs": [
    {
     "data": {
      "text/plain": [
       "[['making', 'money', 'making', 'money'],\n",
       " ['making', 'money', 'making', 'money', 'is', 'for', 'the', 'birds'],\n",
       " ['if', 'it', 'was', 'not', 'for', 'making', 'money'],\n",
       " ['we', 'would', 'be', 'making', 'love', 'not', 'war'],\n",
       " ['honey', 'fuck', 'what', 'you', 'heard']]"
      ]
     },
     "execution_count": 7,
     "metadata": {},
     "output_type": "execute_result"
    }
   ],
   "source": [
    "clean_text_list"
   ]
  },
  {
   "cell_type": "markdown",
   "metadata": {},
   "source": [
    "Jeg har nu en liste, der består af fem ordlister. Hvert element i disse ordlisterne er ordene fra de rensede tekster."
   ]
  },
  {
   "cell_type": "markdown",
   "metadata": {},
   "source": [
    "## Fra tekst til tal\n",
    "\n",
    "Næste del af øvelsen handler om at omskabe teksterne, så de kan blive repræsenteret som en række af tal. I \"computer-sprog\" kaldes dette også for en vektor. _(In \"A Dictionary of Computer Science\", edited by Butterfield, Andrew, Gerard Ekembe Ngondi, and Anne Kerr. : Oxford University Press, 2016. https://www-oxfordreference-com.ep.fjernadgang.kb.dk/view/10.1093/acref/9780199688975.001.0001/acref-9780199688975-e-5671)._\n",
    "\n",
    "Dette er som beskrevet før med det formål at kunne foretage målinger og beregninger på teksternes indhold. \n",
    "\n",
    "For at kunne komme i mål med at bygge en vektor, der er en repræsentation af teksten, har vi brug for at bygge en _dictionary,_ hvis elementer består af unikke ord fra vores korpus. Med unikke ord mener jeg, at der kun vil være et af hvert af de ord, der findes i vores tekster."
   ]
  },
  {
   "cell_type": "markdown",
   "metadata": {},
   "source": [
    "Ovenfor endte vi med variablen _clean_text_list,_ der er en liste, der består af fem lister. \n",
    "\n",
    "Denne liste af lister vil jeg gerne bruge til at bygge omtalte _dictionary,_ men for at kunne gøre dette skal listen flades ud til én liste. Dette skriver jeg på følgende måde."
   ]
  },
  {
   "cell_type": "code",
   "execution_count": 8,
   "metadata": {},
   "outputs": [],
   "source": [
    "word_list = [x for y in clean_text_list for x in y]"
   ]
  },
  {
   "cell_type": "code",
   "execution_count": 9,
   "metadata": {},
   "outputs": [
    {
     "name": "stdout",
     "output_type": "stream",
     "text": [
      "['making', 'money', 'making', 'money', 'making', 'money', 'making', 'money', 'is', 'for', 'the', 'birds', 'if', 'it', 'was', 'not', 'for', 'making', 'money', 'we', 'would', 'be', 'making', 'love', 'not', 'war', 'honey', 'fuck', 'what', 'you', 'heard']\n"
     ]
    }
   ],
   "source": [
    "print(word_list)"
   ]
  },
  {
   "cell_type": "markdown",
   "metadata": {},
   "source": [
    "Ordlisten er fyldt af dubleanter, som jeg har brug for at fjerne, fordi jeg har brug for en liste af unikke ord.\n",
    "\n",
    "Dubleanterne filterer jeg væk fra ordlisten ved at omdanne den til et _set,_ fordi et _set_ tillader ikke to elementer med samme værdi. Et sådan _set_ bliver også kaldet for en 'Bag of Words' eller 'bow'."
   ]
  },
  {
   "cell_type": "code",
   "execution_count": 10,
   "metadata": {},
   "outputs": [],
   "source": [
    "word_set = set(word_list)"
   ]
  },
  {
   "cell_type": "code",
   "execution_count": 11,
   "metadata": {},
   "outputs": [
    {
     "name": "stdout",
     "output_type": "stream",
     "text": [
      "{'be', 'is', 'love', 'it', 'birds', 'would', 'not', 'what', 'money', 'was', 'if', 'war', 'for', 'fuck', 'heard', 'honey', 'we', 'making', 'you', 'the'}\n"
     ]
    }
   ],
   "source": [
    "print(word_set)"
   ]
  },
  {
   "cell_type": "markdown",
   "metadata": {},
   "source": [
    "Nu har jeg materiale til at bygge en _dictionary_ med korpussets unikke ord. "
   ]
  },
  {
   "cell_type": "markdown",
   "metadata": {},
   "source": [
    "## Skriv en funktion"
   ]
  },
  {
   "cell_type": "markdown",
   "metadata": {},
   "source": [
    "Jeg skriver nu en funktion, som jeg kalder _vectorizer,_ fordi funktionen indeholder en kode, der kan benyttes til at repræsentere teksterne som tal. \n",
    "\n",
    "I koden bygger jeg en _dictionary,_ der består af ordene fra _settet_ og hvert ord bliver i samme _dictionary_ tildelt værdien 0.\n",
    "\n",
    "For hvert ord i ordlisterne lægger jeg 1 til ordets værdi, hvis ordet optræder i listen med rensede tekster. Hvis ordet ikke optræder i listen forbliver deres værdi lig med 0."
   ]
  },
  {
   "cell_type": "code",
   "execution_count": 12,
   "metadata": {},
   "outputs": [],
   "source": [
    "def vectorizer(L):\n",
    "    unique_words = dict.fromkeys(word_set, 0)\n",
    "    for word in L:\n",
    "        # Tjek om ordet er der\n",
    "        if word in unique_words:\n",
    "            # Forøg med 1\n",
    "            unique_words[word] = unique_words[word] + 1\n",
    "        else:\n",
    "            # Tilføj ordet med 1\n",
    "            unique_words[word] = 1\n",
    "\n",
    "    # retuner værdierne\n",
    "    return list(unique_words.values())"
   ]
  },
  {
   "cell_type": "markdown",
   "metadata": {},
   "source": [
    "Funktionen implementerer jeg i en _list comprehension,_ og resultatet bliver en liste, som jeg gemmer i variablen _vectorized_text_list._"
   ]
  },
  {
   "cell_type": "code",
   "execution_count": 13,
   "metadata": {},
   "outputs": [],
   "source": [
    "vectorized_text_list = [vectorizer(i) for i in clean_text_list]"
   ]
  },
  {
   "cell_type": "code",
   "execution_count": 14,
   "metadata": {},
   "outputs": [
    {
     "data": {
      "text/plain": [
       "[[0, 0, 0, 0, 0, 0, 0, 0, 2, 0, 0, 0, 0, 0, 0, 0, 0, 2, 0, 0],\n",
       " [0, 1, 0, 0, 1, 0, 0, 0, 2, 0, 0, 0, 1, 0, 0, 0, 0, 2, 0, 1],\n",
       " [0, 0, 0, 1, 0, 0, 1, 0, 1, 1, 1, 0, 1, 0, 0, 0, 0, 1, 0, 0],\n",
       " [1, 0, 1, 0, 0, 1, 1, 0, 0, 0, 0, 1, 0, 0, 0, 0, 1, 1, 0, 0],\n",
       " [0, 0, 0, 0, 0, 0, 0, 1, 0, 0, 0, 0, 0, 1, 1, 1, 0, 0, 1, 0]]"
      ]
     },
     "execution_count": 14,
     "metadata": {},
     "output_type": "execute_result"
    }
   ],
   "source": [
    "vectorized_text_list"
   ]
  },
  {
   "cell_type": "markdown",
   "metadata": {},
   "source": [
    "Hver tekst er nu repræsenteret som en række tal, hvilket giver mulighed for at foretage beregninger på teksterne. "
   ]
  },
  {
   "cell_type": "markdown",
   "metadata": {},
   "source": [
    "## Anvendelsesmuligheder\n",
    "### Frekvens analyse / ordoptælling\n",
    "\n",
    "Vi kan f.eks. bruge vores set (bow) sammen med vores vektorer til visualisere, hvor mange gange hvert ord er nævnt i hver tekst.\n",
    "\n",
    "Jeg bruger pandas til at gemme vores 'bow' i sammen med vektorerne."
   ]
  },
  {
   "cell_type": "code",
   "execution_count": 16,
   "metadata": {},
   "outputs": [],
   "source": [
    "import pandas as pd"
   ]
  },
  {
   "cell_type": "code",
   "execution_count": 17,
   "metadata": {},
   "outputs": [],
   "source": [
    "df = pd.DataFrame(vectorized_text_list, \n",
    "                  index=['text1','text2','text3', 'text4', 'text5'], \n",
    "                  columns=word_set)"
   ]
  },
  {
   "cell_type": "code",
   "execution_count": 18,
   "metadata": {},
   "outputs": [
    {
     "data": {
      "text/html": [
       "<div>\n",
       "<style scoped>\n",
       "    .dataframe tbody tr th:only-of-type {\n",
       "        vertical-align: middle;\n",
       "    }\n",
       "\n",
       "    .dataframe tbody tr th {\n",
       "        vertical-align: top;\n",
       "    }\n",
       "\n",
       "    .dataframe thead th {\n",
       "        text-align: right;\n",
       "    }\n",
       "</style>\n",
       "<table border=\"1\" class=\"dataframe\">\n",
       "  <thead>\n",
       "    <tr style=\"text-align: right;\">\n",
       "      <th></th>\n",
       "      <th>if</th>\n",
       "      <th>would</th>\n",
       "      <th>the</th>\n",
       "      <th>birds</th>\n",
       "      <th>you</th>\n",
       "      <th>fuck</th>\n",
       "      <th>we</th>\n",
       "      <th>war</th>\n",
       "      <th>making</th>\n",
       "      <th>is</th>\n",
       "      <th>not</th>\n",
       "      <th>money</th>\n",
       "      <th>love</th>\n",
       "      <th>what</th>\n",
       "      <th>honey</th>\n",
       "      <th>it</th>\n",
       "      <th>be</th>\n",
       "      <th>for</th>\n",
       "      <th>was</th>\n",
       "      <th>heard</th>\n",
       "    </tr>\n",
       "  </thead>\n",
       "  <tbody>\n",
       "    <tr>\n",
       "      <th>text1</th>\n",
       "      <td>0</td>\n",
       "      <td>0</td>\n",
       "      <td>0</td>\n",
       "      <td>0</td>\n",
       "      <td>0</td>\n",
       "      <td>0</td>\n",
       "      <td>0</td>\n",
       "      <td>0</td>\n",
       "      <td>2</td>\n",
       "      <td>0</td>\n",
       "      <td>0</td>\n",
       "      <td>2</td>\n",
       "      <td>0</td>\n",
       "      <td>0</td>\n",
       "      <td>0</td>\n",
       "      <td>0</td>\n",
       "      <td>0</td>\n",
       "      <td>0</td>\n",
       "      <td>0</td>\n",
       "      <td>0</td>\n",
       "    </tr>\n",
       "    <tr>\n",
       "      <th>text2</th>\n",
       "      <td>0</td>\n",
       "      <td>0</td>\n",
       "      <td>1</td>\n",
       "      <td>1</td>\n",
       "      <td>0</td>\n",
       "      <td>0</td>\n",
       "      <td>0</td>\n",
       "      <td>0</td>\n",
       "      <td>2</td>\n",
       "      <td>1</td>\n",
       "      <td>0</td>\n",
       "      <td>2</td>\n",
       "      <td>0</td>\n",
       "      <td>0</td>\n",
       "      <td>0</td>\n",
       "      <td>0</td>\n",
       "      <td>0</td>\n",
       "      <td>1</td>\n",
       "      <td>0</td>\n",
       "      <td>0</td>\n",
       "    </tr>\n",
       "    <tr>\n",
       "      <th>text3</th>\n",
       "      <td>1</td>\n",
       "      <td>0</td>\n",
       "      <td>0</td>\n",
       "      <td>0</td>\n",
       "      <td>0</td>\n",
       "      <td>0</td>\n",
       "      <td>0</td>\n",
       "      <td>0</td>\n",
       "      <td>1</td>\n",
       "      <td>0</td>\n",
       "      <td>1</td>\n",
       "      <td>1</td>\n",
       "      <td>0</td>\n",
       "      <td>0</td>\n",
       "      <td>0</td>\n",
       "      <td>1</td>\n",
       "      <td>0</td>\n",
       "      <td>1</td>\n",
       "      <td>1</td>\n",
       "      <td>0</td>\n",
       "    </tr>\n",
       "    <tr>\n",
       "      <th>text4</th>\n",
       "      <td>0</td>\n",
       "      <td>1</td>\n",
       "      <td>0</td>\n",
       "      <td>0</td>\n",
       "      <td>0</td>\n",
       "      <td>0</td>\n",
       "      <td>1</td>\n",
       "      <td>1</td>\n",
       "      <td>1</td>\n",
       "      <td>0</td>\n",
       "      <td>1</td>\n",
       "      <td>0</td>\n",
       "      <td>1</td>\n",
       "      <td>0</td>\n",
       "      <td>0</td>\n",
       "      <td>0</td>\n",
       "      <td>1</td>\n",
       "      <td>0</td>\n",
       "      <td>0</td>\n",
       "      <td>0</td>\n",
       "    </tr>\n",
       "    <tr>\n",
       "      <th>text5</th>\n",
       "      <td>0</td>\n",
       "      <td>0</td>\n",
       "      <td>0</td>\n",
       "      <td>0</td>\n",
       "      <td>1</td>\n",
       "      <td>1</td>\n",
       "      <td>0</td>\n",
       "      <td>0</td>\n",
       "      <td>0</td>\n",
       "      <td>0</td>\n",
       "      <td>0</td>\n",
       "      <td>0</td>\n",
       "      <td>0</td>\n",
       "      <td>1</td>\n",
       "      <td>1</td>\n",
       "      <td>0</td>\n",
       "      <td>0</td>\n",
       "      <td>0</td>\n",
       "      <td>0</td>\n",
       "      <td>1</td>\n",
       "    </tr>\n",
       "  </tbody>\n",
       "</table>\n",
       "</div>"
      ],
      "text/plain": [
       "       if  would  the  birds  you  fuck  we  war  making  is  not  money  \\\n",
       "text1   0      0    0      0    0     0   0    0       2   0    0      2   \n",
       "text2   0      0    1      1    0     0   0    0       2   1    0      2   \n",
       "text3   1      0    0      0    0     0   0    0       1   0    1      1   \n",
       "text4   0      1    0      0    0     0   1    1       1   0    1      0   \n",
       "text5   0      0    0      0    1     1   0    0       0   0    0      0   \n",
       "\n",
       "       love  what  honey  it  be  for  was  heard  \n",
       "text1     0     0      0   0   0    0    0      0  \n",
       "text2     0     0      0   0   0    1    0      0  \n",
       "text3     0     0      0   1   0    1    1      0  \n",
       "text4     1     0      0   0   1    0    0      0  \n",
       "text5     0     1      1   0   0    0    0      1  "
      ]
     },
     "execution_count": 18,
     "metadata": {},
     "output_type": "execute_result"
    }
   ],
   "source": [
    "df"
   ]
  },
  {
   "cell_type": "markdown",
   "metadata": {},
   "source": [
    "I dataframen ovenfor er ordene i 'bow' blevet kolonnenavne, teksterne udgør indekset og vektorerne er lig med værdierne.\n",
    "\n",
    "Med 'bow'-ordene som kolonnenavne kan jeg bruge pandas til at lave et _subset_ af dataframen ved at udvælge de kolonnernavne, hvis værdier jeg ønsker at plotte i et søljediagram."
   ]
  },
  {
   "cell_type": "code",
   "execution_count": 19,
   "metadata": {},
   "outputs": [
    {
     "data": {
      "text/plain": [
       "<AxesSubplot:>"
      ]
     },
     "execution_count": 19,
     "metadata": {},
     "output_type": "execute_result"
    },
    {
     "data": {
      "image/png": "[encoded data removed]",
      "text/plain": [
       "<Figure size 432x288 with 1 Axes>"
      ]
     },
     "metadata": {
      "needs_background": "light"
     },
     "output_type": "display_data"
    }
   ],
   "source": [
    "df[['war', 'money', 'love']].plot.bar()"
   ]
  },
  {
   "cell_type": "markdown",
   "metadata": {},
   "source": [
    "### Variation"
   ]
  },
  {
   "cell_type": "markdown",
   "metadata": {},
   "source": [
    "Vi kan også ud fra vektorerne beregne et tal for, hvor meget teksternes vektorer varierer fra hinanden.\n",
    "\n",
    "Beregningen foregår i en funktion med en kode, hvor den absolutte værdi af vec1[i] minus vec2[i] bliver lagt sammen og divideret med vektorens længden."
   ]
  },
  {
   "cell_type": "code",
   "execution_count": 20,
   "metadata": {},
   "outputs": [],
   "source": [
    "def variation(vec1, vec2):\n",
    "    l = len(vec1)\n",
    "    v = 0\n",
    "    for i in range(l):\n",
    "        v += abs(vec1[i] - vec2[i])\n",
    "    return v/l"
   ]
  },
  {
   "cell_type": "code",
   "execution_count": 21,
   "metadata": {},
   "outputs": [],
   "source": [
    "variation_vec1_vec2 = variation(vectorized_text_list[0], vectorized_text_list[1])"
   ]
  },
  {
   "cell_type": "markdown",
   "metadata": {},
   "source": [
    "Variationen mellem vektor 1 og vektor 2 er: 4 / 20 = 0.2"
   ]
  },
  {
   "cell_type": "code",
   "execution_count": 22,
   "metadata": {},
   "outputs": [
    {
     "data": {
      "text/plain": [
       "0.2"
      ]
     },
     "execution_count": 22,
     "metadata": {},
     "output_type": "execute_result"
    }
   ],
   "source": [
    "variation_vec1_vec2"
   ]
  },
  {
   "cell_type": "code",
   "execution_count": 23,
   "metadata": {},
   "outputs": [],
   "source": [
    "variation_vec1_vec3 = variation(vectorized_text_list[0], vectorized_text_list[2])"
   ]
  },
  {
   "cell_type": "code",
   "execution_count": 24,
   "metadata": {},
   "outputs": [
    {
     "data": {
      "text/plain": [
       "0.35"
      ]
     },
     "execution_count": 24,
     "metadata": {},
     "output_type": "execute_result"
    }
   ],
   "source": [
    "variation_vec1_vec3"
   ]
  },
  {
   "cell_type": "markdown",
   "metadata": {},
   "source": [
    "Variationen mellem vektor 1 og vektor 3 er lig med 0.35 og set ud fra dette resultat er variationen mellem tekst 1 og tekst 2 mindre end variationen mellem tekst 1 og tekst 3.\n",
    "\n",
    "Giver det mening? Kig på teksterne igen eller lyt til sangen _Tears of a Clown_ af The Casket Girls og døm selv (https://www.youtube.com/watch?v=C0aoFiwiXbk).\n",
    "\n",
    "\n",
    "- text1 = \"Making money, making money\"\n",
    "- text2 = \"Making money, making money is for the birds\"\n",
    "- text3 = \"If it was not for making money\"\n",
    "- text4 = \"We would be making love not war\"\n",
    "- text5 = \"Honey, fuck what you heard\"\n",
    "\n",
    "Notebooken slutter her med et par beregninger af variationerne mellem de forskellige vektorer."
   ]
  },
  {
   "cell_type": "code",
   "execution_count": 25,
   "metadata": {},
   "outputs": [],
   "source": [
    "variation_vec2_vec3 = variation(vectorized_text_list[1], vectorized_text_list[2])"
   ]
  },
  {
   "cell_type": "code",
   "execution_count": 26,
   "metadata": {},
   "outputs": [
    {
     "data": {
      "text/plain": [
       "0.45"
      ]
     },
     "execution_count": 26,
     "metadata": {},
     "output_type": "execute_result"
    }
   ],
   "source": [
    "variation_vec2_vec3"
   ]
  },
  {
   "cell_type": "code",
   "execution_count": 27,
   "metadata": {},
   "outputs": [],
   "source": [
    "variation_vec4_vec5 = variation(vectorized_text_list[3], vectorized_text_list[4])"
   ]
  },
  {
   "cell_type": "code",
   "execution_count": 28,
   "metadata": {},
   "outputs": [
    {
     "data": {
      "text/plain": [
       "0.6"
      ]
     },
     "execution_count": 28,
     "metadata": {},
     "output_type": "execute_result"
    }
   ],
   "source": [
    "variation_vec4_vec5"
   ]
  },
  {
   "cell_type": "markdown",
   "metadata": {},
   "source": [
    "# Litteratur\n",
    "\n",
    "Usman Malik, Implementing Word2Vec with Gensim Library in Python on Stack Abuse  https://stackabuse.com/implementing-word2vec-with-gensim-library-in-python/\n",
    "\n",
    "A Dictionary of Computer Science\", edited by Butterfield, Andrew, Gerard Ekembe Ngondi, and Anne Kerr. : Oxford University Press, 2016. https://www-oxfordreference-com.ep.fjernadgang.kb.dk/view/10.1093/acref/9780199688975.001.0001/acref-9780199688975-e-5671\n",
    "\n",
    "Refsnes Data, Python Sets on w3schools https://www.w3schools.com/python/python_sets.asp\n",
    "\n",
    "Refsnes Data, Python Dictionaries on w3schools https://www.w3schools.com/python/python_dictionaries.asp\n",
    "\n",
    "The Casket Girls, Tears of a Clown, Graveface Records, 2016 https://www.youtube.com/watch?v=C0aoFiwiXbk."
   ]
  },
  {
   "cell_type": "code",
   "execution_count": null,
   "metadata": {},
   "outputs": [],
   "source": []
  }
 ],
 "metadata": {
  "kernelspec": {
   "display_name": "Python 3",
   "language": "python",
   "name": "python3"
  },
  "language_info": {
   "codemirror_mode": {
    "name": "ipython",
    "version": 3
   },
   "file_extension": ".py",
   "mimetype": "text/x-python",
   "name": "python",
   "nbconvert_exporter": "python",
   "pygments_lexer": "ipython3",
   "version": "3.7.6"
  }
 },
 "nbformat": 4,
 "nbformat_minor": 4
}
